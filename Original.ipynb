{
 "cells": [
  {
   "cell_type": "markdown",
   "metadata": {},
   "source": [
    "### Cargo Routing Model\n",
    "\n",
    "In the cargo-routing problem, we want to allocate the cargo flows over the route network given the **origin-destination demand**:"
   ]
  },
  {
   "cell_type": "code",
   "execution_count": 16,
   "metadata": {
    "collapsed": false
   },
   "outputs": [
    {
     "data": {
      "text/plain": [
       "'3.5.1 |Anaconda 2.4.1 (x86_64)| (default, Dec  7 2015, 11:24:55) \\n[GCC 4.2.1 (Apple Inc. build 5577)]'"
      ]
     },
     "execution_count": 16,
     "metadata": {},
     "output_type": "execute_result"
    }
   ],
   "source": [
    "from os import sys\n",
    "sys.version"
   ]
  },
  {
   "cell_type": "code",
   "execution_count": 18,
   "metadata": {
    "collapsed": false,
    "scrolled": true
   },
   "outputs": [
    {
     "data": {
      "text/html": [
       "<div>\n",
       "<table border=\"1\" class=\"dataframe\">\n",
       "  <thead>\n",
       "    <tr style=\"text-align: right;\">\n",
       "      <th></th>\n",
       "      <th>Yokohama</th>\n",
       "      <th>Shimizu</th>\n",
       "      <th>Nagoya</th>\n",
       "      <th>Kobe</th>\n",
       "      <th>Busan</th>\n",
       "      <th>Kwangyang</th>\n",
       "      <th>Dalian</th>\n",
       "      <th>Xingang</th>\n",
       "      <th>Qingdao</th>\n",
       "      <th>Liangyungang</th>\n",
       "      <th>...</th>\n",
       "      <th>Le Havre</th>\n",
       "      <th>Felixstowe</th>\n",
       "      <th>Zeebrugge</th>\n",
       "      <th>Antwerp</th>\n",
       "      <th>Rotterdam</th>\n",
       "      <th>Bremerhaven</th>\n",
       "      <th>Hamburg</th>\n",
       "      <th>Gothenburg</th>\n",
       "      <th>Aarhus</th>\n",
       "      <th>Gdansk</th>\n",
       "    </tr>\n",
       "  </thead>\n",
       "  <tbody>\n",
       "    <tr>\n",
       "      <th>Bremerhaven</th>\n",
       "      <td>1534</td>\n",
       "      <td>274</td>\n",
       "      <td>1158</td>\n",
       "      <td>1232</td>\n",
       "      <td>6555</td>\n",
       "      <td>993</td>\n",
       "      <td>2496</td>\n",
       "      <td>4770</td>\n",
       "      <td>5625</td>\n",
       "      <td>1656</td>\n",
       "      <td>...</td>\n",
       "      <td>0</td>\n",
       "      <td>0</td>\n",
       "      <td>0</td>\n",
       "      <td>0</td>\n",
       "      <td>0</td>\n",
       "      <td>0</td>\n",
       "      <td>0</td>\n",
       "      <td>0</td>\n",
       "      <td>0</td>\n",
       "      <td>0</td>\n",
       "    </tr>\n",
       "    <tr>\n",
       "      <th>Hamburg</th>\n",
       "      <td>2371</td>\n",
       "      <td>424</td>\n",
       "      <td>1790</td>\n",
       "      <td>1904</td>\n",
       "      <td>10130</td>\n",
       "      <td>1534</td>\n",
       "      <td>3857</td>\n",
       "      <td>7372</td>\n",
       "      <td>8694</td>\n",
       "      <td>2560</td>\n",
       "      <td>...</td>\n",
       "      <td>0</td>\n",
       "      <td>0</td>\n",
       "      <td>0</td>\n",
       "      <td>0</td>\n",
       "      <td>0</td>\n",
       "      <td>0</td>\n",
       "      <td>0</td>\n",
       "      <td>0</td>\n",
       "      <td>0</td>\n",
       "      <td>0</td>\n",
       "    </tr>\n",
       "    <tr>\n",
       "      <th>Gothenburg</th>\n",
       "      <td>277</td>\n",
       "      <td>49</td>\n",
       "      <td>209</td>\n",
       "      <td>222</td>\n",
       "      <td>1182</td>\n",
       "      <td>179</td>\n",
       "      <td>450</td>\n",
       "      <td>860</td>\n",
       "      <td>1014</td>\n",
       "      <td>299</td>\n",
       "      <td>...</td>\n",
       "      <td>0</td>\n",
       "      <td>0</td>\n",
       "      <td>0</td>\n",
       "      <td>0</td>\n",
       "      <td>0</td>\n",
       "      <td>0</td>\n",
       "      <td>0</td>\n",
       "      <td>0</td>\n",
       "      <td>0</td>\n",
       "      <td>0</td>\n",
       "    </tr>\n",
       "    <tr>\n",
       "      <th>Aarhus</th>\n",
       "      <td>231</td>\n",
       "      <td>41</td>\n",
       "      <td>174</td>\n",
       "      <td>186</td>\n",
       "      <td>987</td>\n",
       "      <td>149</td>\n",
       "      <td>376</td>\n",
       "      <td>718</td>\n",
       "      <td>847</td>\n",
       "      <td>249</td>\n",
       "      <td>...</td>\n",
       "      <td>0</td>\n",
       "      <td>0</td>\n",
       "      <td>0</td>\n",
       "      <td>0</td>\n",
       "      <td>0</td>\n",
       "      <td>0</td>\n",
       "      <td>0</td>\n",
       "      <td>0</td>\n",
       "      <td>0</td>\n",
       "      <td>0</td>\n",
       "    </tr>\n",
       "    <tr>\n",
       "      <th>Gdansk</th>\n",
       "      <td>81</td>\n",
       "      <td>15</td>\n",
       "      <td>61</td>\n",
       "      <td>65</td>\n",
       "      <td>348</td>\n",
       "      <td>53</td>\n",
       "      <td>132</td>\n",
       "      <td>253</td>\n",
       "      <td>298</td>\n",
       "      <td>88</td>\n",
       "      <td>...</td>\n",
       "      <td>0</td>\n",
       "      <td>0</td>\n",
       "      <td>0</td>\n",
       "      <td>0</td>\n",
       "      <td>0</td>\n",
       "      <td>0</td>\n",
       "      <td>0</td>\n",
       "      <td>0</td>\n",
       "      <td>0</td>\n",
       "      <td>0</td>\n",
       "    </tr>\n",
       "  </tbody>\n",
       "</table>\n",
       "<p>5 rows × 58 columns</p>\n",
       "</div>"
      ],
      "text/plain": [
       "             Yokohama  Shimizu  Nagoya  Kobe  Busan  Kwangyang  Dalian  \\\n",
       "Bremerhaven      1534      274    1158  1232   6555        993    2496   \n",
       "Hamburg          2371      424    1790  1904  10130       1534    3857   \n",
       "Gothenburg        277       49     209   222   1182        179     450   \n",
       "Aarhus            231       41     174   186    987        149     376   \n",
       "Gdansk             81       15      61    65    348         53     132   \n",
       "\n",
       "             Xingang  Qingdao  Liangyungang   ...    Le Havre  Felixstowe  \\\n",
       "Bremerhaven     4770     5625          1656   ...           0           0   \n",
       "Hamburg         7372     8694          2560   ...           0           0   \n",
       "Gothenburg       860     1014           299   ...           0           0   \n",
       "Aarhus           718      847           249   ...           0           0   \n",
       "Gdansk           253      298            88   ...           0           0   \n",
       "\n",
       "             Zeebrugge  Antwerp  Rotterdam  Bremerhaven  Hamburg  Gothenburg  \\\n",
       "Bremerhaven          0        0          0            0        0           0   \n",
       "Hamburg              0        0          0            0        0           0   \n",
       "Gothenburg           0        0          0            0        0           0   \n",
       "Aarhus               0        0          0            0        0           0   \n",
       "Gdansk               0        0          0            0        0           0   \n",
       "\n",
       "             Aarhus  Gdansk  \n",
       "Bremerhaven       0       0  \n",
       "Hamburg           0       0  \n",
       "Gothenburg        0       0  \n",
       "Aarhus            0       0  \n",
       "Gdansk            0       0  \n",
       "\n",
       "[5 rows x 58 columns]"
      ]
     },
     "execution_count": 18,
     "metadata": {},
     "output_type": "execute_result"
    }
   ],
   "source": [
    "import pandas as pd\n",
    "demand = pd.read_csv('Demand.csv',header=0,index_col=0)\n",
    "demand.tail()"
   ]
  },
  {
   "cell_type": "markdown",
   "metadata": {},
   "source": [
    "### 引入以下集合：\n",
    "| Set Name | Explainantion |\n",
    "| ------------------     | ------------- |\n",
    "|     $$h \\in H$$         |   Set of ports|\n",
    "| $$t \\in T$$ $$T \\subseteq H $$ | Set of transhipment ports |\n",
    "| $$s \\in S$$ | Set of Ship routes |\n",
    "| $$j \\in J$$ | Indicator set denoting whether a ship passes both ports $h_1 \\in H$ and $h_2 \\in H$ on ship route $s \\in S$, where $j=(h_1,h_2,s)$|\n",
    "| $$ k \\in K $$ | Indicator set denoting whether port $h_2 \\in H$ is directly visited after port $h_1 \\in H$ on ship route $ s \\in S $, where $ k=(h_1,h_2,s)$ (直接访问H1 -> H2)|"
   ]
  },
  {
   "cell_type": "markdown",
   "metadata": {},
   "source": [
    "### 数据模型使用以下参数：\n",
    "| Parameter Name | Explaination |\n",
    "| -------------- | ------------ |\n",
    "| $$ r_{h_1,h_2} $$ | Revenue of transporting one TEU from port $ h_1 \\in H $ to port $ h_2 \\in H$ |\n",
    "| $$ c_t^t $$ | Cost of transhipping one TEU in transhipment port $ t \\in T$ |\n",
    "| $$ c_h^h $$ | Cost of (un)loading one TEU in origin or destination port $ h \\in H$ |\n",
    "| $$ d_{h_1h_2}$$ | Demand with origin port $ h_1 \\in H $ and destination port $ h_2 \\in H $ |\n",
    "| $$ b_s $$ | Capacity on ship route $ s \\in S$ |\n",
    "| $$ I_{h_1,h_2,h_3,h_4,s}^{path} $$ | 0/1 parameter that takes the value 1 if a ship passes consecutive ports\n"
   ]
  },
  {
   "cell_type": "markdown",
   "metadata": {},
   "source": [
    "In the model formulation, we distinguish between direct flows and transhipment flows. Direct flows are cargo flows be- tween the origin and destination port of a demand pair for which no transhipment movement has to be made. Cargo flows for which transhipment movements are necessary are called tran- shipment flows. Now, we introduce the following decision variables:"
   ]
  },
  {
   "cell_type": "markdown",
   "metadata": {},
   "source": [
    "| Variable Name | Explaination |\n",
    "| ------------- | ------------ |\n",
    "| $$x_{h_1,h_2,s}$$ | Cargo flow on ship route $ s \\in S $ between consecutive ports $ h_1 \\in H $ and $ h_2 \\in H $.|\n",
    "| $$ x_{h_1,h_2,s}^{od}$$ | Direct cargo flow on ship route $s \\in S$ between ports $ h_1 \\in H$ and $ h_2 \\in H $.|\n",
    "| $$x_{h_1,t,h_2,s}^{ot}$$ | Transhipment flow on ship route $ s \\in S$ between port $ h_1 \\in H$ and transhipment port $t \\in T $ with destination port $h_2 \\in H$ .|\n",
    "| $$x_{t,h,s_1,s_2}^{td}$$ | Transhipment flow on ship route $s_2 \\in S$ between port $t \\in T$ and destination port $ h \\in H$, where the flow to transhipment port $ t \\in T$ was transported on ship route $s_1 \\in S$. |\n",
    "| $$ x_{t_1,t_2,h,s_1,s_2}^{tt}$$ | Transhipment flow on ship route $s_2 \\in S $ between transhipment port $ t_1 \\in T$ and transhipment port $t_2 \\in T $ with destination port $h \\in H$, where the flow to transhipment port $ t_1 \\in T$ was transported on ship route $s_1 \\in S$. |\n",
    "| $$ x_{h_1,h_2,s}^{tot}$$ | Total cargo flow on ship route $ s \\in S$ between ports $ h_1 \\in H$ and $h_2 \\in H$.|"
   ]
  },
  {
   "cell_type": "markdown",
   "metadata": {},
   "source": [
    "$$\\sum$$"
   ]
  },
  {
   "cell_type": "code",
   "execution_count": null,
   "metadata": {
    "collapsed": true
   },
   "outputs": [],
   "source": []
  }
 ],
 "metadata": {
  "kernelspec": {
   "display_name": "Python 3",
   "language": "python",
   "name": "python3"
  },
  "language_info": {
   "codemirror_mode": {
    "name": "ipython",
    "version": 3
   },
   "file_extension": ".py",
   "mimetype": "text/x-python",
   "name": "python",
   "nbconvert_exporter": "python",
   "pygments_lexer": "ipython3",
   "version": "3.5.1"
  }
 },
 "nbformat": 4,
 "nbformat_minor": 0
}
